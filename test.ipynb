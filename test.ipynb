{
 "cells": [
  {
   "cell_type": "code",
   "execution_count": 231,
   "metadata": {
    "collapsed": true,
    "ExecuteTime": {
     "end_time": "2024-02-23T19:57:31.342415700Z",
     "start_time": "2024-02-23T19:57:31.279859500Z"
    }
   },
   "outputs": [],
   "source": [
    "\n",
    "### Modèle Random Forest et Calcul des Métriques :\n",
    "\n",
    "# Import des bibliothèques nécessaires\n",
    "from sklearn.datasets import load_iris\n",
    "from sklearn.model_selection import train_test_split\n",
    "from sklearn.ensemble import RandomForestClassifier\n",
    "from sklearn.metrics import accuracy_score, precision_score, recall_score, f1_score\n",
    "import pandas as pd\n",
    "\n",
    "# Chargement du dataset Iris\n",
    "iris = load_iris()\n",
    "X = iris.data\n",
    "y = iris.target\n",
    "\n",
    "# Séparation des données en ensembles d'entraînement et de test\n",
    "X_train, X_test, y_train, y_test = train_test_split(X, y, test_size=0.2, random_state=42)\n",
    "\n",
    "# Création et entraînement du modèle Random Forest\n",
    "rf_model = RandomForestClassifier(n_estimators=1, max_depth=2,random_state=42)\n",
    "rf_model.fit(X_train, y_train)\n",
    "\n",
    "# Prédiction sur l'ensemble de test\n",
    "y_pred = rf_model.predict(X_test)\n",
    "\n",
    "# Calcul des métriques d'évaluation\n",
    "accuracy = round(accuracy_score(y_test, y_pred)*100,2)\n",
    "precision = round(precision_score(y_test, y_pred, average='weighted')*100,2)\n",
    "recall = round(recall_score(y_test, y_pred, average='weighted')*100,2)\n",
    "f1 = round(f1_score(y_test, y_pred, average='weighted')*100,2)\n",
    "\n",
    "# Création d'un DataFrame avec les métriques\n",
    "df = pd.DataFrame({'Names': ['Accuracy', 'Precision', 'Recall', 'F1-Score'],\n",
    "                           'Metrics': [accuracy, precision, recall, f1]})\n"
   ]
  },
  {
   "cell_type": "code",
   "execution_count": 232,
   "outputs": [
    {
     "data": {
      "text/plain": "array([1])"
     },
     "execution_count": 232,
     "metadata": {},
     "output_type": "execute_result"
    }
   ],
   "source": [
    "rf_model.predict([[5,3,2,1]])"
   ],
   "metadata": {
    "collapsed": false,
    "ExecuteTime": {
     "end_time": "2024-02-23T19:57:32.863799Z",
     "start_time": "2024-02-23T19:57:32.851285600Z"
    }
   }
  },
  {
   "cell_type": "code",
   "execution_count": 240,
   "outputs": [
    {
     "data": {
      "text/plain": "array([1])"
     },
     "execution_count": 240,
     "metadata": {},
     "output_type": "execute_result"
    }
   ],
   "source": [
    "\n",
    "input = [1.2, 3.4, 5.6,1]\n",
    "rf_model.predict([input])"
   ],
   "metadata": {
    "collapsed": false,
    "ExecuteTime": {
     "end_time": "2024-02-23T20:17:27.622936900Z",
     "start_time": "2024-02-23T20:17:27.609006500Z"
    }
   }
  },
  {
   "cell_type": "code",
   "execution_count": 234,
   "outputs": [],
   "source": [
    "import joblib"
   ],
   "metadata": {
    "collapsed": false,
    "ExecuteTime": {
     "end_time": "2024-02-23T20:00:22.652077300Z",
     "start_time": "2024-02-23T20:00:22.648064100Z"
    }
   }
  },
  {
   "cell_type": "code",
   "execution_count": 235,
   "outputs": [
    {
     "data": {
      "text/plain": "['rf_model.joblib']"
     },
     "execution_count": 235,
     "metadata": {},
     "output_type": "execute_result"
    }
   ],
   "source": [
    "joblib.dump(rf_model, 'rf_model.joblib')"
   ],
   "metadata": {
    "collapsed": false,
    "ExecuteTime": {
     "end_time": "2024-02-23T20:00:23.475318300Z",
     "start_time": "2024-02-23T20:00:23.428688600Z"
    }
   }
  },
  {
   "cell_type": "code",
   "execution_count": 236,
   "outputs": [],
   "source": [
    "rf_model = joblib.load('rf_model.joblib')"
   ],
   "metadata": {
    "collapsed": false,
    "ExecuteTime": {
     "end_time": "2024-02-23T20:00:24.697397900Z",
     "start_time": "2024-02-23T20:00:24.685749900Z"
    }
   }
  },
  {
   "cell_type": "code",
   "execution_count": 237,
   "outputs": [
    {
     "data": {
      "text/plain": "['rf_model.joblib.js']"
     },
     "execution_count": 237,
     "metadata": {},
     "output_type": "execute_result"
    }
   ],
   "source": [
    "joblib.dump(rf_model, 'rf_model.joblib.js', compress=False)"
   ],
   "metadata": {
    "collapsed": false,
    "ExecuteTime": {
     "end_time": "2024-02-23T20:00:28.506127200Z",
     "start_time": "2024-02-23T20:00:28.485637Z"
    }
   }
  },
  {
   "cell_type": "code",
   "execution_count": 242,
   "outputs": [
    {
     "data": {
      "text/plain": "['rf_model.pkl']"
     },
     "execution_count": 242,
     "metadata": {},
     "output_type": "execute_result"
    }
   ],
   "source": [
    "joblib.dump(rf_model, 'rf_model.pkl')"
   ],
   "metadata": {
    "collapsed": false,
    "ExecuteTime": {
     "end_time": "2024-02-24T01:36:37.029193700Z",
     "start_time": "2024-02-24T01:36:37.022625100Z"
    }
   }
  },
  {
   "cell_type": "code",
   "execution_count": 245,
   "outputs": [],
   "source": [
    "import pickle\n",
    "\n",
    "with open('models/model.pkl', 'wb') as f:\n",
    "  pickle.dump(rf_model, f)"
   ],
   "metadata": {
    "collapsed": false,
    "ExecuteTime": {
     "end_time": "2024-02-24T02:55:18.719459500Z",
     "start_time": "2024-02-24T02:55:18.702169Z"
    }
   }
  },
  {
   "cell_type": "code",
   "execution_count": 196,
   "outputs": [],
   "source": [
    "dist = df2.groupby('nature').count().target\n",
    "dist\n",
    "labels = dist.index"
   ],
   "metadata": {
    "collapsed": false,
    "ExecuteTime": {
     "end_time": "2024-02-22T01:41:12.684924900Z",
     "start_time": "2024-02-22T01:41:12.623076600Z"
    }
   }
  },
  {
   "cell_type": "code",
   "execution_count": 214,
   "outputs": [
    {
     "data": {
      "text/plain": "     sepal length (cm)  sepal width (cm)  petal length (cm)  petal width (cm)  \\\n0                  5.1               3.5                1.4               0.2   \n1                  4.9               3.0                1.4               0.2   \n2                  4.7               3.2                1.3               0.2   \n3                  4.6               3.1                1.5               0.2   \n4                  5.0               3.6                1.4               0.2   \n..                 ...               ...                ...               ...   \n145                6.7               3.0                5.2               2.3   \n146                6.3               2.5                5.0               1.9   \n147                6.5               3.0                5.2               2.0   \n148                6.2               3.4                5.4               2.3   \n149                5.9               3.0                5.1               1.8   \n\n     target     nature  \n0         0     setosa  \n1         0     setosa  \n2         0     setosa  \n3         0     setosa  \n4         0     setosa  \n..      ...        ...  \n145       2  virginica  \n146       2  virginica  \n147       2  virginica  \n148       2  virginica  \n149       2  virginica  \n\n[150 rows x 6 columns]",
      "text/html": "<div>\n<style scoped>\n    .dataframe tbody tr th:only-of-type {\n        vertical-align: middle;\n    }\n\n    .dataframe tbody tr th {\n        vertical-align: top;\n    }\n\n    .dataframe thead th {\n        text-align: right;\n    }\n</style>\n<table border=\"1\" class=\"dataframe\">\n  <thead>\n    <tr style=\"text-align: right;\">\n      <th></th>\n      <th>sepal length (cm)</th>\n      <th>sepal width (cm)</th>\n      <th>petal length (cm)</th>\n      <th>petal width (cm)</th>\n      <th>target</th>\n      <th>nature</th>\n    </tr>\n  </thead>\n  <tbody>\n    <tr>\n      <th>0</th>\n      <td>5.1</td>\n      <td>3.5</td>\n      <td>1.4</td>\n      <td>0.2</td>\n      <td>0</td>\n      <td>setosa</td>\n    </tr>\n    <tr>\n      <th>1</th>\n      <td>4.9</td>\n      <td>3.0</td>\n      <td>1.4</td>\n      <td>0.2</td>\n      <td>0</td>\n      <td>setosa</td>\n    </tr>\n    <tr>\n      <th>2</th>\n      <td>4.7</td>\n      <td>3.2</td>\n      <td>1.3</td>\n      <td>0.2</td>\n      <td>0</td>\n      <td>setosa</td>\n    </tr>\n    <tr>\n      <th>3</th>\n      <td>4.6</td>\n      <td>3.1</td>\n      <td>1.5</td>\n      <td>0.2</td>\n      <td>0</td>\n      <td>setosa</td>\n    </tr>\n    <tr>\n      <th>4</th>\n      <td>5.0</td>\n      <td>3.6</td>\n      <td>1.4</td>\n      <td>0.2</td>\n      <td>0</td>\n      <td>setosa</td>\n    </tr>\n    <tr>\n      <th>...</th>\n      <td>...</td>\n      <td>...</td>\n      <td>...</td>\n      <td>...</td>\n      <td>...</td>\n      <td>...</td>\n    </tr>\n    <tr>\n      <th>145</th>\n      <td>6.7</td>\n      <td>3.0</td>\n      <td>5.2</td>\n      <td>2.3</td>\n      <td>2</td>\n      <td>virginica</td>\n    </tr>\n    <tr>\n      <th>146</th>\n      <td>6.3</td>\n      <td>2.5</td>\n      <td>5.0</td>\n      <td>1.9</td>\n      <td>2</td>\n      <td>virginica</td>\n    </tr>\n    <tr>\n      <th>147</th>\n      <td>6.5</td>\n      <td>3.0</td>\n      <td>5.2</td>\n      <td>2.0</td>\n      <td>2</td>\n      <td>virginica</td>\n    </tr>\n    <tr>\n      <th>148</th>\n      <td>6.2</td>\n      <td>3.4</td>\n      <td>5.4</td>\n      <td>2.3</td>\n      <td>2</td>\n      <td>virginica</td>\n    </tr>\n    <tr>\n      <th>149</th>\n      <td>5.9</td>\n      <td>3.0</td>\n      <td>5.1</td>\n      <td>1.8</td>\n      <td>2</td>\n      <td>virginica</td>\n    </tr>\n  </tbody>\n</table>\n<p>150 rows × 6 columns</p>\n</div>"
     },
     "execution_count": 214,
     "metadata": {},
     "output_type": "execute_result"
    }
   ],
   "source": [
    "df2"
   ],
   "metadata": {
    "collapsed": false,
    "ExecuteTime": {
     "end_time": "2024-02-22T04:12:50.551710500Z",
     "start_time": "2024-02-22T04:12:50.431747900Z"
    }
   }
  },
  {
   "cell_type": "code",
   "execution_count": 140,
   "outputs": [],
   "source": [
    "dd = df2.groupby('nature')\n",
    "sl = dd.describe().iloc[:,1:8]\n",
    "sw = dd.describe().iloc[:,9:16]\n",
    "pl = dd.describe().iloc[:,17:24]\n",
    "pw = dd.describe().iloc[:,25:32]"
   ],
   "metadata": {
    "collapsed": false,
    "ExecuteTime": {
     "end_time": "2024-02-21T20:30:37.001129400Z",
     "start_time": "2024-02-21T20:30:36.872641500Z"
    }
   }
  },
  {
   "cell_type": "code",
   "execution_count": 176,
   "outputs": [
    {
     "data": {
      "text/plain": "      sepal length (cm)  sepal width (cm)  petal length (cm)  petal width (cm)\nmean           5.843333          3.057333              3.758          1.199333\nmin            4.300000          2.000000              1.000          0.100000\n25%            5.100000          2.800000              1.600          0.300000\n50%            5.800000          3.000000              4.350          1.300000\n75%            6.400000          3.300000              5.100          1.800000\nmax            7.900000          4.400000              6.900          2.500000",
      "text/html": "<div>\n<style scoped>\n    .dataframe tbody tr th:only-of-type {\n        vertical-align: middle;\n    }\n\n    .dataframe tbody tr th {\n        vertical-align: top;\n    }\n\n    .dataframe thead th {\n        text-align: right;\n    }\n</style>\n<table border=\"1\" class=\"dataframe\">\n  <thead>\n    <tr style=\"text-align: right;\">\n      <th></th>\n      <th>sepal length (cm)</th>\n      <th>sepal width (cm)</th>\n      <th>petal length (cm)</th>\n      <th>petal width (cm)</th>\n    </tr>\n  </thead>\n  <tbody>\n    <tr>\n      <th>mean</th>\n      <td>5.843333</td>\n      <td>3.057333</td>\n      <td>3.758</td>\n      <td>1.199333</td>\n    </tr>\n    <tr>\n      <th>min</th>\n      <td>4.300000</td>\n      <td>2.000000</td>\n      <td>1.000</td>\n      <td>0.100000</td>\n    </tr>\n    <tr>\n      <th>25%</th>\n      <td>5.100000</td>\n      <td>2.800000</td>\n      <td>1.600</td>\n      <td>0.300000</td>\n    </tr>\n    <tr>\n      <th>50%</th>\n      <td>5.800000</td>\n      <td>3.000000</td>\n      <td>4.350</td>\n      <td>1.300000</td>\n    </tr>\n    <tr>\n      <th>75%</th>\n      <td>6.400000</td>\n      <td>3.300000</td>\n      <td>5.100</td>\n      <td>1.800000</td>\n    </tr>\n    <tr>\n      <th>max</th>\n      <td>7.900000</td>\n      <td>4.400000</td>\n      <td>6.900</td>\n      <td>2.500000</td>\n    </tr>\n  </tbody>\n</table>\n</div>"
     },
     "execution_count": 176,
     "metadata": {},
     "output_type": "execute_result"
    }
   ],
   "source": [
    "chart_data3 = pd.DataFrame(df2.iloc[:,:4].describe().drop(['std','count']))\n",
    "chart_data3"
   ],
   "metadata": {
    "collapsed": false,
    "ExecuteTime": {
     "end_time": "2024-02-22T00:31:21.803246500Z",
     "start_time": "2024-02-22T00:31:21.735897900Z"
    }
   }
  },
  {
   "cell_type": "code",
   "execution_count": 194,
   "outputs": [
    {
     "data": {
      "text/plain": "Index(['mean', 'min', '25%', '50%', '75%', 'max'], dtype='object')"
     },
     "execution_count": 194,
     "metadata": {},
     "output_type": "execute_result"
    }
   ],
   "source": [
    "# Convertir les données en une liste de dictionnaires\n",
    "chart_data3.index"
   ],
   "metadata": {
    "collapsed": false,
    "ExecuteTime": {
     "end_time": "2024-02-22T01:19:45.356996200Z",
     "start_time": "2024-02-22T01:19:45.343674600Z"
    }
   }
  },
  {
   "cell_type": "code",
   "execution_count": 184,
   "outputs": [
    {
     "ename": "TypeError",
     "evalue": "string indices must be integers, not 'str'",
     "output_type": "error",
     "traceback": [
      "\u001B[1;31m---------------------------------------------------------------------------\u001B[0m",
      "\u001B[1;31mTypeError\u001B[0m                                 Traceback (most recent call last)",
      "Cell \u001B[1;32mIn[184], line 3\u001B[0m\n\u001B[0;32m      1\u001B[0m \u001B[38;5;66;03m# Créer un dictionnaire pour stocker les séries de données\u001B[39;00m\n\u001B[0;32m      2\u001B[0m series_dict \u001B[38;5;241m=\u001B[39m {\n\u001B[1;32m----> 3\u001B[0m     \u001B[38;5;124m'\u001B[39m\u001B[38;5;124mMoyenne\u001B[39m\u001B[38;5;124m'\u001B[39m: \u001B[43m[\u001B[49m\u001B[43mitem\u001B[49m\u001B[43m[\u001B[49m\u001B[38;5;124;43m'\u001B[39;49m\u001B[38;5;124;43mmean\u001B[39;49m\u001B[38;5;124;43m'\u001B[39;49m\u001B[43m]\u001B[49m\u001B[43m \u001B[49m\u001B[38;5;28;43;01mfor\u001B[39;49;00m\u001B[43m \u001B[49m\u001B[43mitem\u001B[49m\u001B[43m \u001B[49m\u001B[38;5;129;43;01min\u001B[39;49;00m\u001B[43m \u001B[49m\u001B[43mdata_list\u001B[49m\u001B[43m]\u001B[49m,\n\u001B[0;32m      4\u001B[0m }\n",
      "Cell \u001B[1;32mIn[184], line 3\u001B[0m, in \u001B[0;36m<listcomp>\u001B[1;34m(.0)\u001B[0m\n\u001B[0;32m      1\u001B[0m \u001B[38;5;66;03m# Créer un dictionnaire pour stocker les séries de données\u001B[39;00m\n\u001B[0;32m      2\u001B[0m series_dict \u001B[38;5;241m=\u001B[39m {\n\u001B[1;32m----> 3\u001B[0m     \u001B[38;5;124m'\u001B[39m\u001B[38;5;124mMoyenne\u001B[39m\u001B[38;5;124m'\u001B[39m: [\u001B[43mitem\u001B[49m\u001B[43m[\u001B[49m\u001B[38;5;124;43m'\u001B[39;49m\u001B[38;5;124;43mmean\u001B[39;49m\u001B[38;5;124;43m'\u001B[39;49m\u001B[43m]\u001B[49m \u001B[38;5;28;01mfor\u001B[39;00m item \u001B[38;5;129;01min\u001B[39;00m data_list],\n\u001B[0;32m      4\u001B[0m }\n",
      "\u001B[1;31mTypeError\u001B[0m: string indices must be integers, not 'str'"
     ]
    }
   ],
   "source": [
    "# Créer un dictionnaire pour stocker les séries de données\n",
    "series_dict = {\n",
    "    'Moyenne': [item['mean'] for item in data_list],\n",
    "}"
   ],
   "metadata": {
    "collapsed": false,
    "ExecuteTime": {
     "end_time": "2024-02-22T00:44:24.878033300Z",
     "start_time": "2024-02-22T00:44:24.842738500Z"
    }
   }
  },
  {
   "cell_type": "code",
   "execution_count": null,
   "outputs": [],
   "source": [
    "# Convertir les noms de catégories en liste\n",
    "categories = [item['Categories'] for item in data_list]"
   ],
   "metadata": {
    "collapsed": false
   }
  },
  {
   "cell_type": "code",
   "execution_count": 141,
   "outputs": [],
   "source": [
    "df_sl = pd.DataFrame(pd.DataFrame(sl))\n",
    "df_sl.columns = df_sl.columns.droplevel(level=0)\n",
    "df_sl.drop(columns='std', inplace=True)"
   ],
   "metadata": {
    "collapsed": false,
    "ExecuteTime": {
     "end_time": "2024-02-21T20:30:40.138029500Z",
     "start_time": "2024-02-21T20:30:40.125643400Z"
    }
   }
  },
  {
   "cell_type": "code",
   "execution_count": 142,
   "outputs": [
    {
     "data": {
      "text/plain": "             mean  min    25%  50%  75%  max\nnature                                      \nsetosa      5.006  4.3  4.800  5.0  5.2  5.8\nversicolor  5.936  4.9  5.600  5.9  6.3  7.0\nvirginica   6.588  4.9  6.225  6.5  6.9  7.9",
      "text/html": "<div>\n<style scoped>\n    .dataframe tbody tr th:only-of-type {\n        vertical-align: middle;\n    }\n\n    .dataframe tbody tr th {\n        vertical-align: top;\n    }\n\n    .dataframe thead th {\n        text-align: right;\n    }\n</style>\n<table border=\"1\" class=\"dataframe\">\n  <thead>\n    <tr style=\"text-align: right;\">\n      <th></th>\n      <th>mean</th>\n      <th>min</th>\n      <th>25%</th>\n      <th>50%</th>\n      <th>75%</th>\n      <th>max</th>\n    </tr>\n    <tr>\n      <th>nature</th>\n      <th></th>\n      <th></th>\n      <th></th>\n      <th></th>\n      <th></th>\n      <th></th>\n    </tr>\n  </thead>\n  <tbody>\n    <tr>\n      <th>setosa</th>\n      <td>5.006</td>\n      <td>4.3</td>\n      <td>4.800</td>\n      <td>5.0</td>\n      <td>5.2</td>\n      <td>5.8</td>\n    </tr>\n    <tr>\n      <th>versicolor</th>\n      <td>5.936</td>\n      <td>4.9</td>\n      <td>5.600</td>\n      <td>5.9</td>\n      <td>6.3</td>\n      <td>7.0</td>\n    </tr>\n    <tr>\n      <th>virginica</th>\n      <td>6.588</td>\n      <td>4.9</td>\n      <td>6.225</td>\n      <td>6.5</td>\n      <td>6.9</td>\n      <td>7.9</td>\n    </tr>\n  </tbody>\n</table>\n</div>"
     },
     "execution_count": 142,
     "metadata": {},
     "output_type": "execute_result"
    }
   ],
   "source": [
    "df_sl"
   ],
   "metadata": {
    "collapsed": false,
    "ExecuteTime": {
     "end_time": "2024-02-21T20:30:44.084511300Z",
     "start_time": "2024-02-21T20:30:44.062490500Z"
    }
   }
  },
  {
   "cell_type": "code",
   "execution_count": null,
   "outputs": [],
   "source": [
    "Je suis ravie que cela ait fonctionné pour vous ! Pour récupérer les valeurs saisies dans chaque champ de saisie (input) du formulaire en JavaScript afin de les utiliser dans votre code Python qui gère la vue HTML, vous pouvez utiliser la méthode `getElementById()` pour accéder à chaque champ par son ID et récupérer sa valeur à l'aide de la propriété `value`. Voici un exemple de code pour récupérer les valeurs des champs de saisie :\n",
    "\n",
    "```html\n",
    "<!DOCTYPE html>\n",
    "<html lang=\"en\">\n",
    "<head>\n",
    "    <meta charset=\"UTF-8\">\n",
    "    <meta http-equiv=\"X-UA-Compatible\" content=\"IE=edge\">\n",
    "    <meta name=\"viewport\" content=\"width=device-width, initial-scale=1.0\">\n",
    "    <title>Votre Titre</title>\n",
    "</head>\n",
    "<body>\n",
    "    <form id=\"myForm\">\n",
    "        <label for=\"input1\">Champ 1 :</label>\n",
    "        <input type=\"text\" id=\"input1\" name=\"input1\" required>\n",
    "        <span id=\"errorInput1\" style=\"color: red;\"></span><br><br>\n",
    "\n",
    "        <label for=\"input2\">Champ 2 :</label>\n",
    "        <input type=\"text\" id=\"input2\" name=\"input2\" required>\n",
    "        <span id=\"errorInput2\" style=\"color: red;\"></span><br><br>\n",
    "\n",
    "        <button onclick=\"checkValidityAndExecute()\" type=\"button\" class=\"btn btn-primary me-2\">Prédire</button>\n",
    "    </form>\n",
    "\n",
    "    <script>\n",
    "        function checkValidityAndExecute() {\n",
    "            var form = document.getElementById('myForm');\n",
    "            var isValid = true;\n",
    "\n",
    "            form.querySelectorAll(':invalid').forEach(function(element) {\n",
    "                var fieldName = element.name;\n",
    "                var errorMessage = element.validationMessage;\n",
    "                document.getElementById('error' + fieldName).textContent = errorMessage;\n",
    "                isValid = false;\n",
    "            });\n",
    "\n",
    "            if (isValid) {\n",
    "                var input1Value = document.getElementById('input1').value;\n",
    "                var input2Value = document.getElementById('input2').value;\n",
    "\n",
    "                // Envoyer les valeurs à Python (à adapter selon votre configuration)\n",
    "                window.location.href = \"/chemin/vers/votre/page-python?input1=\" + input1Value + \"&input2=\" + input2Value;\n",
    "            }\n",
    "        }\n",
    "    </script>\n",
    "</body>\n",
    "</html>\n",
    "```\n",
    "\n",
    "Dans ce code, une fois que tous les champs requis sont remplis et validés, les valeurs des champs `input1` et `input2` sont récupérées à l'aide de `document.getElementById('input1').value` et `document.getElementById('input2').value`. Ensuite, ces valeurs sont envoyées à votre code Python en tant que paramètres dans l'URL pour être utilisées dans le traitement côté serveur. Assurez-vous d'adapter le chemin vers votre page Python dans `window.location.href` selon votre configuration."
   ],
   "metadata": {
    "collapsed": false
   }
  },
  {
   "cell_type": "code",
   "execution_count": null,
   "outputs": [],
   "source": [
    "from flask import Flask, request\n",
    "\n",
    "app = Flask(__name)\n",
    "\n",
    "@app.route('/votre-page-python', methods=['GET'])\n",
    "def traitement_donnees():\n",
    "    input1_value = request.args.get('input1')\n",
    "    input2_value = request.args.get('input2')\n",
    "\n",
    "    # Utilisez les valeurs récupérées comme vous le souhaitez\n",
    "    print(\"Valeur de input1 :\", input1_value)\n",
    "    print(\"Valeur de input2 :\", input2_value)\n",
    "\n",
    "    # Retournez une réponse à la page HTML si nécessaire\n",
    "    return \"Données reçues avec succès !\"\n",
    "\n",
    "if __name__ == '__main__':\n",
    "    app.run()\n"
   ],
   "metadata": {
    "collapsed": false
   }
  },
  {
   "cell_type": "code",
   "execution_count": 218,
   "outputs": [
    {
     "data": {
      "text/plain": "list[1, 2]"
     },
     "execution_count": 218,
     "metadata": {},
     "output_type": "execute_result"
    }
   ],
   "source": [],
   "metadata": {
    "collapsed": false,
    "ExecuteTime": {
     "end_time": "2024-02-22T17:18:35.781053700Z",
     "start_time": "2024-02-22T17:18:35.736324400Z"
    }
   }
  }
 ],
 "metadata": {
  "kernelspec": {
   "display_name": "Python 3",
   "language": "python",
   "name": "python3"
  },
  "language_info": {
   "codemirror_mode": {
    "name": "ipython",
    "version": 2
   },
   "file_extension": ".py",
   "mimetype": "text/x-python",
   "name": "python",
   "nbconvert_exporter": "python",
   "pygments_lexer": "ipython2",
   "version": "2.7.6"
  }
 },
 "nbformat": 4,
 "nbformat_minor": 0
}
